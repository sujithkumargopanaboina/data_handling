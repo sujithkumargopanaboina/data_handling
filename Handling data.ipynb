{
 "cells": [
  {
   "cell_type": "code",
   "execution_count": 2,
   "id": "944aa82d",
   "metadata": {},
   "outputs": [],
   "source": [
    "import pandas as pd\n",
    "df=pd.read_csv(\"Downloads/35447d7200cb11ec/dataset/dataset.csv\")"
   ]
  },
  {
   "cell_type": "code",
   "execution_count": 3,
   "id": "f944794f",
   "metadata": {},
   "outputs": [
    {
     "data": {
      "text/html": [
       "<div>\n",
       "<style scoped>\n",
       "    .dataframe tbody tr th:only-of-type {\n",
       "        vertical-align: middle;\n",
       "    }\n",
       "\n",
       "    .dataframe tbody tr th {\n",
       "        vertical-align: top;\n",
       "    }\n",
       "\n",
       "    .dataframe thead th {\n",
       "        text-align: right;\n",
       "    }\n",
       "</style>\n",
       "<table border=\"1\" class=\"dataframe\">\n",
       "  <thead>\n",
       "    <tr style=\"text-align: right;\">\n",
       "      <th></th>\n",
       "      <th>Candidate Name</th>\n",
       "      <th>Email</th>\n",
       "      <th>Department Code</th>\n",
       "      <th>Clarity of questions</th>\n",
       "      <th>Usability of Test Interface</th>\n",
       "      <th>Usability of Code Editor</th>\n",
       "      <th>Fairness of skill assessment</th>\n",
       "      <th>Extra Comment</th>\n",
       "    </tr>\n",
       "  </thead>\n",
       "  <tbody>\n",
       "    <tr>\n",
       "      <th>0</th>\n",
       "      <td>Beecher</td>\n",
       "      <td>Beecher1970@yahoo.com</td>\n",
       "      <td>B</td>\n",
       "      <td>4.0</td>\n",
       "      <td>4.0</td>\n",
       "      <td>4.0</td>\n",
       "      <td>4.0</td>\n",
       "      <td>NaN</td>\n",
       "    </tr>\n",
       "    <tr>\n",
       "      <th>1</th>\n",
       "      <td>Kelsie</td>\n",
       "      <td>Kelsie1983@yahoo.com</td>\n",
       "      <td>D</td>\n",
       "      <td>5.0</td>\n",
       "      <td>1.0</td>\n",
       "      <td>5.0</td>\n",
       "      <td>5.0</td>\n",
       "      <td>Please provide all test cases available to pro...</td>\n",
       "    </tr>\n",
       "    <tr>\n",
       "      <th>2</th>\n",
       "      <td>Gianni</td>\n",
       "      <td>Gianni1981@</td>\n",
       "      <td>B</td>\n",
       "      <td>3.0</td>\n",
       "      <td>3.0</td>\n",
       "      <td>3.0</td>\n",
       "      <td>3.0</td>\n",
       "      <td>NaN</td>\n",
       "    </tr>\n",
       "    <tr>\n",
       "      <th>3</th>\n",
       "      <td>Clemmie</td>\n",
       "      <td>Clemmie1983@gmail.com</td>\n",
       "      <td>A</td>\n",
       "      <td>3.0</td>\n",
       "      <td>3.0</td>\n",
       "      <td>3.0</td>\n",
       "      <td>3.0</td>\n",
       "      <td>NaN</td>\n",
       "    </tr>\n",
       "    <tr>\n",
       "      <th>4</th>\n",
       "      <td>Jerel</td>\n",
       "      <td>Jerel1987@gmail.com</td>\n",
       "      <td>D</td>\n",
       "      <td>4.0</td>\n",
       "      <td>4.0</td>\n",
       "      <td>4.0</td>\n",
       "      <td>3.0</td>\n",
       "      <td>NaN</td>\n",
       "    </tr>\n",
       "    <tr>\n",
       "      <th>...</th>\n",
       "      <td>...</td>\n",
       "      <td>...</td>\n",
       "      <td>...</td>\n",
       "      <td>...</td>\n",
       "      <td>...</td>\n",
       "      <td>...</td>\n",
       "      <td>...</td>\n",
       "      <td>...</td>\n",
       "    </tr>\n",
       "    <tr>\n",
       "      <th>1032</th>\n",
       "      <td>Jayda</td>\n",
       "      <td>Jayda1975@</td>\n",
       "      <td>A</td>\n",
       "      <td>5.0</td>\n",
       "      <td>5.0</td>\n",
       "      <td>5.0</td>\n",
       "      <td>5.0</td>\n",
       "      <td>NaN</td>\n",
       "    </tr>\n",
       "    <tr>\n",
       "      <th>1033</th>\n",
       "      <td>Harmony</td>\n",
       "      <td>Harmony1971@yahoo.com</td>\n",
       "      <td>C</td>\n",
       "      <td>5.0</td>\n",
       "      <td>3.0</td>\n",
       "      <td>3.0</td>\n",
       "      <td>4.0</td>\n",
       "      <td>NaN</td>\n",
       "    </tr>\n",
       "    <tr>\n",
       "      <th>1034</th>\n",
       "      <td>Illya</td>\n",
       "      <td>Illya1989@gmail.com</td>\n",
       "      <td>A</td>\n",
       "      <td>4.0</td>\n",
       "      <td>4.0</td>\n",
       "      <td>4.0</td>\n",
       "      <td>3.0</td>\n",
       "      <td>NaN</td>\n",
       "    </tr>\n",
       "    <tr>\n",
       "      <th>1035</th>\n",
       "      <td>Raekwon</td>\n",
       "      <td>Raekwon1978@yahoo.com</td>\n",
       "      <td>F</td>\n",
       "      <td>4.0</td>\n",
       "      <td>3.0</td>\n",
       "      <td>5.0</td>\n",
       "      <td>3.0</td>\n",
       "      <td>NaN</td>\n",
       "    </tr>\n",
       "    <tr>\n",
       "      <th>1036</th>\n",
       "      <td>Hosteen</td>\n",
       "      <td>Hosteen1989@yahoo.com</td>\n",
       "      <td>E</td>\n",
       "      <td>4.0</td>\n",
       "      <td>4.0</td>\n",
       "      <td>4.0</td>\n",
       "      <td>4.0</td>\n",
       "      <td>NaN</td>\n",
       "    </tr>\n",
       "  </tbody>\n",
       "</table>\n",
       "<p>1037 rows × 8 columns</p>\n",
       "</div>"
      ],
      "text/plain": [
       "     Candidate Name                  Email Department Code  \\\n",
       "0           Beecher  Beecher1970@yahoo.com               B   \n",
       "1            Kelsie   Kelsie1983@yahoo.com               D   \n",
       "2            Gianni            Gianni1981@               B   \n",
       "3           Clemmie  Clemmie1983@gmail.com               A   \n",
       "4             Jerel    Jerel1987@gmail.com               D   \n",
       "...             ...                    ...             ...   \n",
       "1032          Jayda             Jayda1975@               A   \n",
       "1033        Harmony  Harmony1971@yahoo.com               C   \n",
       "1034          Illya    Illya1989@gmail.com               A   \n",
       "1035        Raekwon  Raekwon1978@yahoo.com               F   \n",
       "1036        Hosteen  Hosteen1989@yahoo.com               E   \n",
       "\n",
       "      Clarity of questions  Usability of Test Interface  \\\n",
       "0                      4.0                          4.0   \n",
       "1                      5.0                          1.0   \n",
       "2                      3.0                          3.0   \n",
       "3                      3.0                          3.0   \n",
       "4                      4.0                          4.0   \n",
       "...                    ...                          ...   \n",
       "1032                   5.0                          5.0   \n",
       "1033                   5.0                          3.0   \n",
       "1034                   4.0                          4.0   \n",
       "1035                   4.0                          3.0   \n",
       "1036                   4.0                          4.0   \n",
       "\n",
       "      Usability of Code Editor  Fairness of skill assessment  \\\n",
       "0                          4.0                           4.0   \n",
       "1                          5.0                           5.0   \n",
       "2                          3.0                           3.0   \n",
       "3                          3.0                           3.0   \n",
       "4                          4.0                           3.0   \n",
       "...                        ...                           ...   \n",
       "1032                       5.0                           5.0   \n",
       "1033                       3.0                           4.0   \n",
       "1034                       4.0                           3.0   \n",
       "1035                       5.0                           3.0   \n",
       "1036                       4.0                           4.0   \n",
       "\n",
       "                                          Extra Comment  \n",
       "0                                                   NaN  \n",
       "1     Please provide all test cases available to pro...  \n",
       "2                                                   NaN  \n",
       "3                                                   NaN  \n",
       "4                                                   NaN  \n",
       "...                                                 ...  \n",
       "1032                                                NaN  \n",
       "1033                                                NaN  \n",
       "1034                                                NaN  \n",
       "1035                                                NaN  \n",
       "1036                                                NaN  \n",
       "\n",
       "[1037 rows x 8 columns]"
      ]
     },
     "execution_count": 3,
     "metadata": {},
     "output_type": "execute_result"
    }
   ],
   "source": [
    "df"
   ]
  },
  {
   "cell_type": "code",
   "execution_count": 4,
   "id": "9c2901ba",
   "metadata": {},
   "outputs": [
    {
     "data": {
      "text/plain": [
       "Index(['Candidate Name', 'Email', 'Department Code', 'Clarity of questions',\n",
       "       'Usability of Test Interface', 'Usability of Code Editor',\n",
       "       'Fairness of skill assessment', 'Extra Comment'],\n",
       "      dtype='object')"
      ]
     },
     "execution_count": 4,
     "metadata": {},
     "output_type": "execute_result"
    }
   ],
   "source": [
    "df.columns"
   ]
  },
  {
   "cell_type": "code",
   "execution_count": 5,
   "id": "69c7467b",
   "metadata": {},
   "outputs": [
    {
     "name": "stdout",
     "output_type": "stream",
     "text": [
      "<class 'pandas.core.frame.DataFrame'>\n",
      "RangeIndex: 1037 entries, 0 to 1036\n",
      "Data columns (total 8 columns):\n",
      " #   Column                        Non-Null Count  Dtype  \n",
      "---  ------                        --------------  -----  \n",
      " 0   Candidate Name                1037 non-null   object \n",
      " 1   Email                         1037 non-null   object \n",
      " 2   Department Code               1037 non-null   object \n",
      " 3   Clarity of questions          1017 non-null   float64\n",
      " 4   Usability of Test Interface   995 non-null    float64\n",
      " 5   Usability of Code Editor      985 non-null    float64\n",
      " 6   Fairness of skill assessment  974 non-null    float64\n",
      " 7   Extra Comment                 109 non-null    object \n",
      "dtypes: float64(4), object(4)\n",
      "memory usage: 64.9+ KB\n"
     ]
    }
   ],
   "source": [
    "df.info()"
   ]
  },
  {
   "cell_type": "code",
   "execution_count": 6,
   "id": "2bbe8065",
   "metadata": {},
   "outputs": [],
   "source": [
    "df=df.dropna()"
   ]
  },
  {
   "cell_type": "code",
   "execution_count": 7,
   "id": "75a29951",
   "metadata": {},
   "outputs": [
    {
     "name": "stdout",
     "output_type": "stream",
     "text": [
      "<class 'pandas.core.frame.DataFrame'>\n",
      "Int64Index: 96 entries, 1 to 1005\n",
      "Data columns (total 8 columns):\n",
      " #   Column                        Non-Null Count  Dtype  \n",
      "---  ------                        --------------  -----  \n",
      " 0   Candidate Name                96 non-null     object \n",
      " 1   Email                         96 non-null     object \n",
      " 2   Department Code               96 non-null     object \n",
      " 3   Clarity of questions          96 non-null     float64\n",
      " 4   Usability of Test Interface   96 non-null     float64\n",
      " 5   Usability of Code Editor      96 non-null     float64\n",
      " 6   Fairness of skill assessment  96 non-null     float64\n",
      " 7   Extra Comment                 96 non-null     object \n",
      "dtypes: float64(4), object(4)\n",
      "memory usage: 6.8+ KB\n"
     ]
    }
   ],
   "source": [
    "df.info()"
   ]
  },
  {
   "cell_type": "code",
   "execution_count": 8,
   "id": "e8651931",
   "metadata": {},
   "outputs": [
    {
     "name": "stderr",
     "output_type": "stream",
     "text": [
      "C:\\Users\\SUJITH\\anaconda3\\lib\\site-packages\\pandas\\core\\frame.py:4308: SettingWithCopyWarning: \n",
      "A value is trying to be set on a copy of a slice from a DataFrame\n",
      "\n",
      "See the caveats in the documentation: https://pandas.pydata.org/pandas-docs/stable/user_guide/indexing.html#returning-a-view-versus-a-copy\n",
      "  return super().drop(\n"
     ]
    }
   ],
   "source": [
    "df.drop(\"Extra Comment\",axis=1,inplace=True)"
   ]
  },
  {
   "cell_type": "code",
   "execution_count": 10,
   "id": "48e6f797",
   "metadata": {},
   "outputs": [
    {
     "data": {
      "text/plain": [
       "Index(['Candidate Name', 'Email', 'Department Code', 'Clarity of questions',\n",
       "       'Usability of Test Interface', 'Usability of Code Editor',\n",
       "       'Fairness of skill assessment'],\n",
       "      dtype='object')"
      ]
     },
     "execution_count": 10,
     "metadata": {},
     "output_type": "execute_result"
    }
   ],
   "source": [
    "df.columns"
   ]
  },
  {
   "cell_type": "code",
   "execution_count": 15,
   "id": "d88923e1",
   "metadata": {},
   "outputs": [],
   "source": [
    "mi=df[['Clarity of questions',\n",
    "       'Usability of Test Interface', 'Usability of Code Editor',\n",
    "       'Fairness of skill assessment']].min()"
   ]
  },
  {
   "cell_type": "code",
   "execution_count": 16,
   "id": "c34ac68f",
   "metadata": {},
   "outputs": [],
   "source": [
    "mx=df[['Clarity of questions',\n",
    "       'Usability of Test Interface', 'Usability of Code Editor',\n",
    "       'Fairness of skill assessment']].max()"
   ]
  },
  {
   "cell_type": "code",
   "execution_count": 19,
   "id": "f9580587",
   "metadata": {},
   "outputs": [],
   "source": [
    "dicts={}\n",
    "dicts[1.1]=(mi.min(),mx.max())\n"
   ]
  },
  {
   "cell_type": "code",
   "execution_count": 21,
   "id": "b296bae9",
   "metadata": {},
   "outputs": [],
   "source": [
    "avg=df['Usability of Test Interface'].mean()"
   ]
  },
  {
   "cell_type": "code",
   "execution_count": 22,
   "id": "98d6f1f0",
   "metadata": {},
   "outputs": [
    {
     "data": {
      "text/plain": [
       "3.208671171171171"
      ]
     },
     "execution_count": 22,
     "metadata": {},
     "output_type": "execute_result"
    }
   ],
   "source": [
    "avg"
   ]
  },
  {
   "cell_type": "code",
   "execution_count": 31,
   "id": "02236a51",
   "metadata": {},
   "outputs": [],
   "source": [
    "dicts[1.2]=avg"
   ]
  },
  {
   "cell_type": "code",
   "execution_count": 28,
   "id": "fd782202",
   "metadata": {},
   "outputs": [],
   "source": [
    "cou=df[df['Usability of Code Editor']==4].count()"
   ]
  },
  {
   "cell_type": "code",
   "execution_count": 32,
   "id": "31bbf81c",
   "metadata": {},
   "outputs": [],
   "source": [
    "s=cou.mean()"
   ]
  },
  {
   "cell_type": "code",
   "execution_count": 34,
   "id": "4d6b38e4",
   "metadata": {},
   "outputs": [
    {
     "data": {
      "text/plain": [
       "17.0"
      ]
     },
     "execution_count": 34,
     "metadata": {},
     "output_type": "execute_result"
    }
   ],
   "source": [
    "s"
   ]
  },
  {
   "cell_type": "code",
   "execution_count": 33,
   "id": "e369d6f7",
   "metadata": {},
   "outputs": [],
   "source": [
    "dicts[1.3]=s"
   ]
  },
  {
   "cell_type": "code",
   "execution_count": 35,
   "id": "3487fc57",
   "metadata": {},
   "outputs": [
    {
     "data": {
      "text/plain": [
       "{1.1: (1.0, 5.0), 1.2: 3.208671171171171, 1.3: 17.0}"
      ]
     },
     "execution_count": 35,
     "metadata": {},
     "output_type": "execute_result"
    }
   ],
   "source": [
    "dicts"
   ]
  },
  {
   "cell_type": "code",
   "execution_count": null,
   "id": "6ac0221f",
   "metadata": {},
   "outputs": [],
   "source": [
    "#should submit in the form of json file"
   ]
  },
  {
   "cell_type": "code",
   "execution_count": 38,
   "id": "d5b709b5",
   "metadata": {},
   "outputs": [],
   "source": [
    "\n",
    "\n",
    "f = open(\"submission.json\", \"w\")\n",
    "json.dump(dicts, f)\n",
    "f.close()\n"
   ]
  },
  {
   "cell_type": "code",
   "execution_count": null,
   "id": "45c89702",
   "metadata": {},
   "outputs": [],
   "source": []
  }
 ],
 "metadata": {
  "kernelspec": {
   "display_name": "Python 3",
   "language": "python",
   "name": "python3"
  },
  "language_info": {
   "codemirror_mode": {
    "name": "ipython",
    "version": 3
   },
   "file_extension": ".py",
   "mimetype": "text/x-python",
   "name": "python",
   "nbconvert_exporter": "python",
   "pygments_lexer": "ipython3",
   "version": "3.8.8"
  }
 },
 "nbformat": 4,
 "nbformat_minor": 5
}
